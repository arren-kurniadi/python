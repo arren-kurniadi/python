{
  "nbformat": 4,
  "nbformat_minor": 0,
  "metadata": {
    "colab": {
      "provenance": [],
      "authorship_tag": "ABX9TyNsSIV1/7kf4/kfaoTq8VjO",
      "include_colab_link": true
    },
    "kernelspec": {
      "name": "python3",
      "display_name": "Python 3"
    },
    "language_info": {
      "name": "python"
    }
  },
  "cells": [
    {
      "cell_type": "markdown",
      "metadata": {
        "id": "view-in-github",
        "colab_type": "text"
      },
      "source": [
        "<a href=\"https://colab.research.google.com/github/arren-kurniadi/python/blob/new-branch/Practice_Python.ipynb\" target=\"_parent\"><img src=\"https://colab.research.google.com/assets/colab-badge.svg\" alt=\"Open In Colab\"/></a>"
      ]
    },
    {
      "cell_type": "code",
      "execution_count": null,
      "metadata": {
        "id": "oBNHyKtnPf_d",
        "colab": {
          "base_uri": "https://localhost:8080/"
        },
        "outputId": "93f9ca3f-768d-471c-8485-3678317667c8"
      },
      "outputs": [
        {
          "output_type": "stream",
          "name": "stdout",
          "text": [
            "c b a\n"
          ]
        }
      ],
      "source": [
        "x = [\"a\", \"b\", \"c\"]\n",
        "temp = x[0]\n",
        "x[0] = x[2]\n",
        "x[2] = temp\n",
        "\n",
        "# Join the elements of the list into a single string and print it\n",
        "y = ' '.join(x)\n",
        "print(y)\n"
      ]
    }
  ]
}