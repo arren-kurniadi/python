{
  "nbformat": 4,
  "nbformat_minor": 0,
  "metadata": {
    "colab": {
      "provenance": [],
      "authorship_tag": "ABX9TyOWdAcad37kVkYGms0+NPrT",
      "include_colab_link": true
    },
    "kernelspec": {
      "name": "python3",
      "display_name": "Python 3"
    },
    "language_info": {
      "name": "python"
    }
  },
  "cells": [
    {
      "cell_type": "markdown",
      "metadata": {
        "id": "view-in-github",
        "colab_type": "text"
      },
      "source": [
        "<a href=\"https://colab.research.google.com/github/arren-kurniadi/python/blob/new-branch/Soal_1_PT_Sari_Tan.ipynb\" target=\"_parent\"><img src=\"https://colab.research.google.com/assets/colab-badge.svg\" alt=\"Open In Colab\"/></a>"
      ]
    },
    {
      "cell_type": "code",
      "execution_count": 1,
      "metadata": {
        "colab": {
          "base_uri": "https://localhost:8080/"
        },
        "id": "xS0ZML37ckFP",
        "outputId": "434d88e7-fa09-425d-f28b-7799e087419e"
      },
      "outputs": [
        {
          "output_type": "stream",
          "name": "stdout",
          "text": [
            "https://www.iana.org/domains/example\n"
          ]
        }
      ],
      "source": [
        "import requests\n",
        "from bs4 import BeautifulSoup\n",
        "\n",
        "def scrape_website(url):\n",
        "    # Mengirim permintaan HTTP GET ke situs web\n",
        "    response = requests.get(url)\n",
        "\n",
        "    # Memeriksa apakah permintaan berhasil\n",
        "    if response.status_code == 200:\n",
        "        # Menggunakan BeautifulSoup untuk analisis HTML\n",
        "        soup = BeautifulSoup(response.text, 'html.parser')\n",
        "\n",
        "        # Misalnya, mencari semua elemen <a> (tautan) di halaman\n",
        "        links = soup.find_all('a')\n",
        "\n",
        "        # Menampilkan semua tautan yang ditemukan\n",
        "        for link in links:\n",
        "            print(link.get('href'))\n",
        "    else:\n",
        "        print(f\"Failed to retrieve the webpage. Status code: {response.status_code}\")\n",
        "\n",
        "# Gantilah URL dengan URL situs web yang ingin Anda scrape\n",
        "url_to_scrape = 'https://example.com'\n",
        "\n",
        "# Panggil fungsi scrape_website dengan URL sebagai argumen\n",
        "scrape_website(url_to_scrape)"
      ]
    }
  ]
}