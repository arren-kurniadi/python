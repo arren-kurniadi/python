{
  "nbformat": 4,
  "nbformat_minor": 0,
  "metadata": {
    "colab": {
      "provenance": [],
      "authorship_tag": "ABX9TyMb2qnIQ+c17mekWaHVnkBj",
      "include_colab_link": true
    },
    "kernelspec": {
      "name": "python3",
      "display_name": "Python 3"
    },
    "language_info": {
      "name": "python"
    }
  },
  "cells": [
    {
      "cell_type": "markdown",
      "metadata": {
        "id": "view-in-github",
        "colab_type": "text"
      },
      "source": [
        "<a href=\"https://colab.research.google.com/github/arren-kurniadi/python/blob/new-branch/Soal_2_PT_Sari_Tan.ipynb\" target=\"_parent\"><img src=\"https://colab.research.google.com/assets/colab-badge.svg\" alt=\"Open In Colab\"/></a>"
      ]
    },
    {
      "cell_type": "code",
      "execution_count": 1,
      "metadata": {
        "colab": {
          "base_uri": "https://localhost:8080/"
        },
        "id": "eBfdHJ8KeO0L",
        "outputId": "741e8e98-2dbb-4593-917b-5fbac485bd46"
      },
      "outputs": [
        {
          "output_type": "stream",
          "name": "stdout",
          "text": [
            "Collecting PyPDF2\n",
            "  Downloading pypdf2-3.0.1-py3-none-any.whl (232 kB)\n",
            "\u001b[2K     \u001b[90m━━━━━━━━━━━━━━━━━━━━━━━━━━━━━━━━━━━━━━━━\u001b[0m \u001b[32m232.6/232.6 kB\u001b[0m \u001b[31m1.5 MB/s\u001b[0m eta \u001b[36m0:00:00\u001b[0m\n",
            "\u001b[?25hInstalling collected packages: PyPDF2\n",
            "Successfully installed PyPDF2-3.0.1\n"
          ]
        }
      ],
      "source": [
        "pip install PyPDF2"
      ]
    },
    {
      "cell_type": "code",
      "source": [
        "import os\n",
        "import PyPDF2\n",
        "\n",
        "def extract_text_from_pdf(pdf_path):\n",
        "    try:\n",
        "        with open(pdf_path, 'rb') as file:\n",
        "            pdf_reader = PyPDF2.PdfFileReader(file)\n",
        "\n",
        "            # Mengecek jumlah halaman dalam PDF\n",
        "            num_pages = pdf_reader.numPages\n",
        "\n",
        "            # Mengekstrak teks dari setiap halaman\n",
        "            text = \"\"\n",
        "            for page_num in range(num_pages):\n",
        "                page = pdf_reader.getPage(page_num)\n",
        "                text += page.extractText()\n",
        "\n",
        "            return text\n",
        "    except Exception as e:\n",
        "        print(f\"Error extracting text from {pdf_path}: {e}\")\n",
        "        return None\n",
        "\n",
        "def process_pdfs_in_directory(directory_path):\n",
        "    for filename in os.listdir(directory_path):\n",
        "        if filename.endswith(\".pdf\"):\n",
        "            pdf_path = os.path.join(directory_path, filename)\n",
        "            text = extract_text_from_pdf(pdf_path)\n",
        "\n",
        "            if text:\n",
        "                print(f\"Text extracted from {pdf_path}:\\n{text}\")\n",
        "                print(\"-\" * 50)\n",
        "\n",
        "# Gantilah dengan path direktori yang berisi file PDF\n",
        "directory_to_process = \"/path/to/pdf/files\"\n",
        "process_pdfs_in_directory(directory_to_process)"
      ],
      "metadata": {
        "id": "ECJLe3ZDeWg5"
      },
      "execution_count": null,
      "outputs": []
    }
  ]
}