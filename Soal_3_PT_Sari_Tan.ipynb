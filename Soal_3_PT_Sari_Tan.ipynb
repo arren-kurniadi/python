{
  "nbformat": 4,
  "nbformat_minor": 0,
  "metadata": {
    "colab": {
      "provenance": [],
      "authorship_tag": "ABX9TyMtuTflOnL7oBDRjeG8wvz5",
      "include_colab_link": true
    },
    "kernelspec": {
      "name": "python3",
      "display_name": "Python 3"
    },
    "language_info": {
      "name": "python"
    }
  },
  "cells": [
    {
      "cell_type": "markdown",
      "metadata": {
        "id": "view-in-github",
        "colab_type": "text"
      },
      "source": [
        "<a href=\"https://colab.research.google.com/github/arren-kurniadi/python/blob/new-branch/Soal_3_PT_Sari_Tan.ipynb\" target=\"_parent\"><img src=\"https://colab.research.google.com/assets/colab-badge.svg\" alt=\"Open In Colab\"/></a>"
      ]
    },
    {
      "cell_type": "code",
      "execution_count": 1,
      "metadata": {
        "colab": {
          "base_uri": "https://localhost:8080/"
        },
        "id": "BnRZOZ4de4mj",
        "outputId": "675f0f97-f4eb-4fb1-85f6-f03c66528b45"
      },
      "outputs": [
        {
          "output_type": "stream",
          "name": "stdout",
          "text": [
            "Requirement already satisfied: requests in /usr/local/lib/python3.10/dist-packages (2.31.0)\n",
            "Requirement already satisfied: charset-normalizer<4,>=2 in /usr/local/lib/python3.10/dist-packages (from requests) (3.3.2)\n",
            "Requirement already satisfied: idna<4,>=2.5 in /usr/local/lib/python3.10/dist-packages (from requests) (3.6)\n",
            "Requirement already satisfied: urllib3<3,>=1.21.1 in /usr/local/lib/python3.10/dist-packages (from requests) (2.0.7)\n",
            "Requirement already satisfied: certifi>=2017.4.17 in /usr/local/lib/python3.10/dist-packages (from requests) (2023.11.17)\n"
          ]
        }
      ],
      "source": [
        "pip install requests"
      ]
    },
    {
      "cell_type": "code",
      "source": [
        "import requests\n",
        "\n",
        "crm_api_url = \"https://example-crm.com/api/add_data\"\n",
        "\n",
        "# Contoh data yang ingin dimasukkan\n",
        "data_to_insert = {\n",
        "    'name': 'John Doe',\n",
        "    'email': 'john.doe@example.com',\n",
        "    'phone': '123456789',\n",
        "}\n",
        "\n",
        "# Mengirim permintaan POST ke API CRM\n",
        "response = requests.post(crm_api_url, json=data_to_insert)\n",
        "\n",
        "# Memeriksa respon dari API\n",
        "if response.status_code == 200:\n",
        "    print(\"Data berhasil dimasukkan ke dalam CRM.\")\n",
        "else:\n",
        "    print(f\"Gagal memasukkan data. Status code: {response.status_code}\")\n",
        "    print(response.text)"
      ],
      "metadata": {
        "id": "HpLcF_4ee8gX"
      },
      "execution_count": null,
      "outputs": []
    }
  ]
}